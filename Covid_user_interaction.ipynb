{
  "nbformat": 4,
  "nbformat_minor": 0,
  "metadata": {
    "colab": {
      "provenance": []
    },
    "kernelspec": {
      "name": "python3",
      "display_name": "Python 3"
    },
    "language_info": {
      "name": "python"
    }
  },
  "cells": [
    {
      "cell_type": "markdown",
      "source": [
        "This python program uses a text based input to create a user interaction\n",
        "with certain columns of data from our world in covid dataset.\n",
        "\n",
        "The Pandas and Matplotlib library were mainly used for the data analysis;\n",
        "the Pandas library providing functions for data cleaning and providing summary information.\n",
        "\n",
        "The Matplotlib library is used for data visualization.\n"
      ],
      "metadata": {
        "id": "TOAyViIoAZNJ"
      }
    },
    {
      "cell_type": "markdown",
      "source": [
        "Project Workflow:\n",
        "Data Loading and Preparation\n",
        "User Interaction for Data Exploration\n",
        "Statistical Summary for Selected Countries\n",
        "Comparative Analysis between Africa and Europe\n"
      ],
      "metadata": {
        "id": "ZL1xHeXEDUDH"
      }
    },
    {
      "cell_type": "code",
      "execution_count": 11,
      "metadata": {
        "colab": {
          "base_uri": "https://localhost:8080/"
        },
        "id": "L-aQIACa-4F9",
        "outputId": "de3eab7e-cc6c-4807-d978-2b33f29eda32"
      },
      "outputs": [
        {
          "output_type": "stream",
          "name": "stderr",
          "text": [
            "<ipython-input-11-bf0127d49b3a>:6: DtypeWarning: Columns (30) have mixed types. Specify dtype option on import or set low_memory=False.\n",
            "  df_country = pd.read_csv(\"covid_data.csv\")\n"
          ]
        }
      ],
      "source": [
        "# importing necessary libraries\n",
        "import pandas as pd\n",
        "import matplotlib.pyplot as plt\n",
        "\n",
        "# reading the data file\n",
        "df_country = pd.read_csv(\"covid_data.csv\")\n",
        "\n",
        "# the .unique() method helps to eliminate duplicate objects in a column;returning only one of each item.\n",
        "country_names = df_country.location.unique()\n",
        "\n",
        "# displaying the columns\n",
        "df_country.columns\n",
        "\n",
        "# the list() method creates an empty list\n",
        "columns = list()\n",
        "\n"
      ]
    },
    {
      "cell_type": "markdown",
      "source": [
        " This block of code uses a for loop to iterate over the column names; using a conditional statement to check for specific names and thus appending it to an intially empty list.\n",
        "    "
      ],
      "metadata": {
        "id": "i6GJIOCkA5EH"
      }
    },
    {
      "cell_type": "code",
      "source": [
        "# Create a dictionary to map column indices to column names\n",
        "for i in df_country.columns:\n",
        "  if i in (\"total_cases\", \"new_cases\", \"population\", \"aged_65_older\", \"median_age\", \"new_vaccinations\", \"total_vaccinations\",\n",
        "    \"icu_patients\", \"hosp_patients\", \"total_deaths\", \"new_deaths\"):\n",
        "        columns.append(i)\n",
        "\n",
        "column_selector={ k: v for k, v in enumerate(columns) } # a dictionary being created from a list comprehension\n",
        "\n",
        "# Welcome message and instructions\n",
        "print(\"Hello and welcome to the COVID-19 data exploration tools\")\n",
        "print(\" \")\n",
        "print(\"Select a valid attribute to check from the options below\")\n",
        "print(column_selector)\n",
        "print(\" \")"
      ],
      "metadata": {
        "colab": {
          "base_uri": "https://localhost:8080/"
        },
        "id": "63Ued051BFpV",
        "outputId": "a6bdd703-88e2-4fe6-a5dc-d105c90ada59"
      },
      "execution_count": 12,
      "outputs": [
        {
          "output_type": "stream",
          "name": "stdout",
          "text": [
            "Hello and welcome to the COVID-19 data exploration tools\n",
            " \n",
            "Select a valid attribute to check from the options below\n",
            "{0: 'total_cases', 1: 'new_cases', 2: 'total_deaths', 3: 'new_deaths', 4: 'icu_patients', 5: 'hosp_patients', 6: 'total_vaccinations', 7: 'new_vaccinations', 8: 'median_age', 9: 'aged_65_older', 10: 'population'}\n",
            " \n"
          ]
        }
      ]
    },
    {
      "cell_type": "markdown",
      "source": [
        " A while loop is used to put a block of code in an unending run state till a desired outcome is achieved. this is usually followed by the command \"break\" to ensure the block of code ends. In the code below, .isnumeric(), one of the inbuilt pycharm functions is used to ensure that whatever value is entered is a number. Once this condition is met, the code progresses as normal. The .get() dictionary method is also implemented, so that when a number that is present in the column selector is entered, the correponding column is called upon."
      ],
      "metadata": {
        "id": "wLF09yJSBVe2"
      }
    },
    {
      "cell_type": "code",
      "source": [
        "def stats(x_selected):\n",
        "  while True:\n",
        "    number = (input(\"Enter a number from the above \\n\"))\n",
        "    result = number.isnumeric()\n",
        "    if result:\n",
        "# the if statement is a conditional command in python, in the above scenario - if result: means the same thing as if result == True\n",
        "        valid_attribute = int(number)\n",
        "        while valid_attribute not in column_selector:\n",
        "            print(column_selector)\n",
        "            print(\"Please select a number from above\")\n",
        "            break\n",
        "        else:\n",
        "            item_selected = column_selector.get(result)\n",
        "            print(item_selected)\n",
        "            break\n",
        "    else:\n",
        "        print(column_selector)\n",
        "        print(\"Invalid command. Please enter a number.\")\n",
        "\n",
        "print(\" \")"
      ],
      "metadata": {
        "colab": {
          "base_uri": "https://localhost:8080/"
        },
        "id": "B7HrCafpBq-x",
        "outputId": "0299d113-4747-4ca8-e76f-331b0e86684b"
      },
      "execution_count": 13,
      "outputs": [
        {
          "output_type": "stream",
          "name": "stdout",
          "text": [
            " \n"
          ]
        }
      ]
    },
    {
      "cell_type": "markdown",
      "source": [
        " This function gives the summary information for chosen columns for the selected country. :param x_selected: this is the arguments that will be passed into the function based on user input from a dictionary. return:"
      ],
      "metadata": {
        "id": "zlBgFKmZB4FU"
      }
    },
    {
      "cell_type": "code",
      "source": [
        "# Function to display statistical summary for selected countries\n",
        "def stats(x_selected):\n",
        "    while True:\n",
        "        print(country_names)\n",
        "        print(\" \")\n",
        "        x = input(\"Type the country you want information about from the list above. \\n\").capitalize()\n",
        "        # The .capitalize() method converts any input into a capitalized format - The first letter is in upper case while the rest\n",
        "        # are in lower case. Since that was the format used in the countries selected and bearing in mind that python is case sensitive\n",
        "        if x not in country_names:  # Checks if the user input is among the list of displayed options.\n",
        "            print(\"info on selected country not available or kindly check your spelling.\")\n",
        "            print(\"enter a valid country\")\n",
        "            continue\n",
        "        else:\n",
        "            print(\" \")\n",
        "            print(f\"Would you like to see summary information on the selected country '{x}'\")  # f-string is used to display the selected country\n",
        "            answer = input(\" Type in yes to continue or any key to check another parameter \\n\").upper()\n",
        "            if answer == \"YES\":\n",
        "                print(df_country[df_country.location == x].describe()[x_selected])\n",
        "                # The .describe() method is used to display the summary statistics for each country, this would give an overview of the data\n",
        "                answer = input(\"Would you like to check for another country?\\n enter yes to continue or any key to check another parameter \\n\").lower()\n",
        "                if answer == \"yes\":\n",
        "                    continue  # In the event that the user wants to continue the analysis with another country\n",
        "                              # the keyword continue returns the program to the top of the loop\n",
        "                break\n",
        "            print(\" \")\n",
        "            break\n",
        "\n",
        "print(\" \")\n"
      ],
      "metadata": {
        "colab": {
          "base_uri": "https://localhost:8080/"
        },
        "id": "9BdQVD9gB4iu",
        "outputId": "9db53434-d809-4355-cd82-5c3be6985d99"
      },
      "execution_count": 14,
      "outputs": [
        {
          "output_type": "stream",
          "name": "stdout",
          "text": [
            " \n"
          ]
        }
      ]
    },
    {
      "cell_type": "code",
      "source": [
        "# Function to compare selected parameter between Africa and Europe\n",
        "def compare():\n",
        "    print(column_selector)\n",
        "    while True:\n",
        "        try:\n",
        "            number = int(input(\"Enter a number from the above \\n\"))\n",
        "            break\n",
        "        except ValueError:\n",
        "            print(\"Select a number\")\n",
        "\n",
        "    item_selected = column_selector.get(number, \"total_deaths\")\n",
        "\n",
        "    if item_selected in (\"total_cases\", \"new_cases\", \"total_deaths\", \"new_deaths\", \"icu_patients\", \"hosp_patients\"):\n",
        "        # If the item selected is among the listed items, a bar chart is plotted\n",
        "        print(f\"The parameter selected was {item_selected}\")\n",
        "        continent_africa = df_country[df_country.continent == \"Africa\"].groupby(\"location\")[item_selected].mean().reset_index()\n",
        "        continent_europe = df_country[df_country.continent == \"Europe\"].groupby(\"location\")[item_selected].mean().reset_index()\n",
        "\n",
        "        plt.figure(figsize=(15, 8))\n",
        "        plt.subplot(2, 1, 1)\n",
        "        plt.bar(continent_africa['location'], continent_africa[item_selected])\n",
        "        plt.title(f'{item_selected} in African Countries')\n",
        "        plt.xticks(rotation=90)\n",
        "\n",
        "        plt.subplot(2, 1, 2)\n",
        "        plt.bar(continent_europe['location'], continent_europe[item_selected])\n",
        "        plt.title(f'{item_selected} in European Countries')\n",
        "        plt.xticks(rotation=90)\n",
        "\n",
        "        plt.tight_layout()\n",
        "        plt.show()\n",
        "\n",
        "    elif item_selected in (\"total_vaccinations\", \"new_vaccinations\", \"median_age\", \"aged_65_older\", \"population\"):\n",
        "        # If the item selected is among the listed items, a line chart is plotted\n",
        "        print(f\"The parameter selected was {item_selected}\")\n",
        "        continent_africa = df_country[df_country.continent == \"Africa\"].groupby(\"location\")[item_selected].mean().reset_index()\n",
        "        continent_europe = df_country[df_country.continent == \"Europe\"].groupby(\"location\")[item_selected].mean().reset_index()\n",
        "\n",
        "        plt.figure(figsize=(15, 8))\n",
        "        plt.subplot(2, 1, 1)\n",
        "        plt.plot(continent_africa['location'], continent_africa[item_selected])\n",
        "        plt.title(f'{item_selected} in African Countries')\n",
        "        plt.xticks(rotation=90)\n",
        "\n",
        "        plt.subplot(2, 1, 2)\n",
        "        plt.plot(continent_europe['location'], continent_europe[item_selected])\n",
        "        plt.title(f'{item_selected} in European Countries')\n",
        "        plt.xticks(rotation=90)\n",
        "\n",
        "        plt.tight_layout()\n",
        "        plt.show()\n",
        "\n",
        "    print(\"Would you like to compare another parameter?\")\n",
        "    selection = input(\"Type 'yes' to continue or any key to quit: \\n\").lower()\n",
        "    if selection == \"yes\":\n",
        "        compare()\n",
        "    print(\"Goodbye\")\n",
        "\n",
        "# Main execution\n",
        "while True:\n",
        "    number = input(\"Enter a number from the above \\n\")\n",
        "    if number.isnumeric():\n",
        "        valid_attribute = int(number)\n",
        "        if valid_attribute in column_selector:\n",
        "            item_selected = column_selector.get(valid_attribute)\n",
        "            print(f\"You selected: {item_selected}\")\n",
        "            stats(item_selected)\n",
        "            break\n",
        "    else:\n",
        "        print(\"Invalid command. Please enter a number.\")\n",
        "        print(column_selector)\n",
        "\n",
        "print(\" \")\n",
        "print(\"Would you like to compare parameters between Africa and Europe using a graph?\")\n",
        "choice = input(\"Enter 'yes' or 'no': \\n\").lower()\n",
        "if choice == \"yes\":\n",
        "    compare()\n",
        "else:\n",
        "    print(\"Thank you for your time.\")\n"
      ],
      "metadata": {
        "colab": {
          "base_uri": "https://localhost:8080/"
        },
        "id": "j7FSxqN4HsuF",
        "outputId": "774ff6c1-ca92-4586-a76e-088f9bda8758"
      },
      "execution_count": 16,
      "outputs": [
        {
          "output_type": "stream",
          "name": "stdout",
          "text": [
            "Enter a number from the above \n",
            "2\n",
            "You selected: total_deaths\n",
            "['Angola' 'Egypt' 'Ethiopia' 'United Kingdom' '250' 'Ghana' 'Kenya'\n",
            " 'Madagascar' 'Nigeria' 'Rwanda' 'South Africa' 'Zimbabwe' 'Belgium'\n",
            " 'Finland' 'France' 'Germany' 'Greece' 'Italy' 'Netherlands' 'Russia'\n",
            " 'Spain']\n",
            " \n",
            "Type the country you want information about from the list above. \n",
            "Angola\n",
            " \n",
            "Would you like to see summary information on the selected country 'Angola'\n",
            " Type in yes to continue or any key to check another parameter \n",
            "yes\n",
            "count     929.000000\n",
            "mean     1002.663079\n",
            "std       757.807244\n",
            "min         0.000000\n",
            "25%       303.000000\n",
            "50%       889.000000\n",
            "75%      1898.000000\n",
            "max      1917.000000\n",
            "Name: total_deaths, dtype: float64\n",
            "Would you like to check for another country?\n",
            " enter yes to continue or any key to check another parameter \n",
            "no\n",
            " \n",
            "Would you like to compare parameters between Africa and Europe using a graph?\n",
            "Enter 'yes' or 'no': \n",
            "no\n",
            "Thank you for your time.\n"
          ]
        }
      ]
    }
  ]
}